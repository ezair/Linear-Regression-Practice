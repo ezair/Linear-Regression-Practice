{
 "cells": [
  {
   "cell_type": "code",
   "execution_count": null,
   "metadata": {},
   "outputs": [],
   "source": []
  },
  {
   "cell_type": "code",
   "execution_count": 1,
   "metadata": {},
   "outputs": [
    {
     "data": {
      "text/html": "<pre>Finished parsing file /home/ez/Workspace/Classes/Machine Learning/Assignment1/data/usedCar.csv</pre>",
      "text/plain": "Finished parsing file /home/ez/Workspace/Classes/Machine Learning/Assignment1/data/usedCar.csv"
     },
     "metadata": {},
     "output_type": "display_data"
    },
    {
     "data": {
      "text/html": "<pre>Parsing completed. Parsed 100 lines in 0.209397 secs.</pre>",
      "text/plain": "Parsing completed. Parsed 100 lines in 0.209397 secs."
     },
     "metadata": {},
     "output_type": "display_data"
    },
    {
     "name": "stdout",
     "output_type": "stream",
     "text": "------------------------------------------------------\nInferred types from first 100 line(s) of file as \ncolumn_type_hints=[str,int,int,str,int,str,str,int,str,str,str,str,str]\nIf parsing fails due to incorrect types, you can correct\nthe inferred type list above and pass it to read_csv in\nthe column_type_hints argument\n------------------------------------------------------\n"
    },
    {
     "data": {
      "text/html": "<pre>Finished parsing file /home/ez/Workspace/Classes/Machine Learning/Assignment1/data/usedCar.csv</pre>",
      "text/plain": "Finished parsing file /home/ez/Workspace/Classes/Machine Learning/Assignment1/data/usedCar.csv"
     },
     "metadata": {},
     "output_type": "display_data"
    },
    {
     "data": {
      "text/html": "<pre>Parsing completed. Parsed 17506 lines in 0.115179 secs.</pre>",
      "text/plain": "Parsing completed. Parsed 17506 lines in 0.115179 secs."
     },
     "metadata": {},
     "output_type": "display_data"
    },
    {
     "name": "stdout",
     "output_type": "stream",
     "text": "\nEror Values: +------+\n|  X1  |\n+------+\n| 4037 |\n| 4662 |\n| 4459 |\n| 4279 |\n| 4472 |\n| 5256 |\n| 5522 |\n| 3194 |\n| 4332 |\n| 4249 |\n+------+\n[14064 rows x 1 columns]\nNote: Only the head of the SFrame is printed.\nYou can use print_rows(num_rows=m, num_columns=n) to print more rows and columns.\nERROR: 68861782\n\n\nEror Values: +----------------------+\n|          X1          |\n+----------------------+\n| -4552948788679407259 |\n| 3122512723978614982  |\n| 6541920318277909931  |\n| 2534982116418309751  |\n| 9223207717497805096  |\n| -8938503146126387656 |\n| 8377335644299027154  |\n| -3793739445169168102 |\n| -2300034264981462420 |\n| 1514794862396082649  |\n+----------------------+\n[14064 rows x 1 columns]\nNote: Only the head of the SFrame is printed.\nYou can use print_rows(num_rows=m, num_columns=n) to print more rows and columns.\nERROR: 6417171807544575702\n\n\nEror Values: +------------------------+\n|           X1           |\n+------------------------+\n| 4.287980707926277e+26  |\n| 4.418071970145629e+26  |\n| 3.708396435424786e+26  |\n| 3.756790639676723e+26  |\n| 3.0076356225398253e+26 |\n| 4.118155256952702e+26  |\n| 5.914153323960453e+26  |\n| 4.278811279752225e+26  |\n| 6.265902776970586e+26  |\n| 5.551451498409092e+26  |\n+------------------------+\n[14064 rows x 1 columns]\nNote: Only the head of the SFrame is printed.\nYou can use print_rows(num_rows=m, num_columns=n) to print more rows and columns.\nERROR: 6.892431416848692e+30\n\n\nEror Values: +-------------------------+\n|            X1           |\n+-------------------------+\n|  -3.746615429427003e+43 |\n| -3.8602807346780574e+43 |\n| -3.2402122926697366e+43 |\n|  -3.282496008769003e+43 |\n|  -2.627932956258649e+43 |\n|  -3.598232967799709e+43 |\n|  -5.167459563299457e+43 |\n|  -3.738603777955563e+43 |\n|  -5.474795415578862e+43 |\n|  -4.850554238429166e+43 |\n+-------------------------+\n[14064 rows x 1 columns]\nNote: Only the head of the SFrame is printed.\nYou can use print_rows(num_rows=m, num_columns=n) to print more rows and columns.\nERROR: -6.022238281787861e+47\n\n\nEror Values: +------------------------+\n|           X1           |\n+------------------------+\n| 3.273590370594597e+60  |\n| 3.372904980206786e+60  |\n| 2.831122638489779e+60  |\n| 2.8680678677140883e+60 |\n| 2.296145996893039e+60  |\n| 3.1439417833035022e+60 |\n| 4.515047296818818e+60  |\n| 3.266590221899465e+60  |\n| 4.783580778707086e+60  |\n| 4.238152526211364e+60  |\n+------------------------+\n[14064 rows x 1 columns]\nNote: Only the head of the SFrame is printed.\nYou can use print_rows(num_rows=m, num_columns=n) to print more rows and columns.\nERROR: 5.26190681163718e+64\n\n\nEror Values: +-------------------------+\n|            X1           |\n+-------------------------+\n|  -2.860286601683217e+77 |\n| -2.9470623479026647e+77 |\n|  -2.473682175795107e+77 |\n|  -2.505962923287412e+77 |\n| -2.0062484571729735e+77 |\n|  -2.747006662785877e+77 |\n| -3.9450046667601857e+77 |\n| -2.8541702495267803e+77 |\n| -4.1796347314279425e+77 |\n| -3.7030689592389074e+77 |\n+-------------------------+\n[14064 rows x 1 columns]\nNote: Only the head of the SFrame is printed.\nYou can use print_rows(num_rows=m, num_columns=n) to print more rows and columns.\nERROR: -4.597570205430977e+81\n\n\nEror Values: +------------------------+\n|           X1           |\n+------------------------+\n| 2.499164072957156e+94  |\n| 2.5749840370223198e+94 |\n| 2.1613699892953256e+94 |\n| 2.1895751643758565e+94 |\n| 1.752951631714745e+94  |\n| 2.4001861756679776e+94 |\n|  3.44693217980794e+94  |\n| 2.493819934520845e+94  |\n| 3.6519392681564294e+94 |\n| 3.235541814993856e+94  |\n+------------------------+\n[14064 rows x 1 columns]\nNote: Only the head of the SFrame is printed.\nYou can use print_rows(num_rows=m, num_columns=n) to print more rows and columns.\nERROR: 4.017108730834761e+98\n\n\nEror Values: +--------------------------+\n|            X1            |\n+--------------------------+\n| -2.1836346958672878e+111 |\n| -2.2498820887310137e+111 |\n| -1.8884884551205262e+111 |\n| -1.9131326149719365e+111 |\n| -1.5316345351668771e+111 |\n| -2.097153150704509e+111  |\n| -3.0117433199269233e+111 |\n| -2.178965276105968e+111  |\n| -3.1908674502153336e+111 |\n| -2.827041827145825e+111  |\n+--------------------------+\n[14064 rows x 1 columns]\nNote: Only the head of the SFrame is printed.\nYou can use print_rows(num_rows=m, num_columns=n) to print more rows and columns.\nERROR: -3.5099328197939322e+115\n\n\nEror Values: +-------------------------+\n|            X1           |\n+-------------------------+\n| 1.9079421541753124e+128 |\n| 1.9658255509211744e+128 |\n|  1.650059297013866e+128 |\n|  1.671592033933521e+128 |\n|  1.338259599907547e+128 |\n| 1.8323792471164707e+128 |\n|  2.631498779772875e+128 |\n| 1.9038622671800094e+128 |\n|  2.788007778120472e+128 |\n|  2.470116583069777e+128 |\n+-------------------------+\n[14064 rows x 1 columns]\nNote: Only the head of the SFrame is printed.\nYou can use print_rows(num_rows=m, num_columns=n) to print more rows and columns.\nERROR: 3.066789879224043e+132\n\n\nEror Values: +--------------------------+\n|            X1            |\n+--------------------------+\n| -1.6670568894003177e+145 |\n| -1.7176322777138014e+145 |\n| -1.441732765842154e+145  |\n| -1.4605469093165777e+145 |\n| -1.1692990172421111e+145 |\n| -1.6010340990762546e+145 |\n| -2.2992616210448335e+145 |\n| -1.663492104320953e+145  |\n| -2.4360107375615655e+145 |\n| -2.1582545667944158e+145 |\n+--------------------------+\n[14064 rows x 1 columns]\nNote: Only the head of the SFrame is printed.\nYou can use print_rows(num_rows=m, num_columns=n) to print more rows and columns.\nERROR: -2.6795954926177708e+149\n\n\nEror Values: +-------------------------+\n|            X1           |\n+-------------------------+\n|  1.45658434476924e+162  |\n|  1.500774389701987e+162 |\n|  1.259708285553448e+162 |\n| 1.2761470687883417e+162 |\n| 1.0216703783165999e+162 |\n| 1.3988971936015278e+162 |\n|  2.008970721417548e+162 |\n| 1.4534696279457865e+162 |\n| 2.1284547195616963e+162 |\n| 1.8857663670676087e+162 |\n+-------------------------+\n[14064 rows x 1 columns]\nNote: Only the head of the SFrame is printed.\nYou can use print_rows(num_rows=m, num_columns=n) to print more rows and columns.\nERROR: 2.3412859331185114e+166\n\n\nEror Values: +--------------------------+\n|            X1            |\n+--------------------------+\n| -1.2726847937325304e+179 |\n| -1.311295670213682e+179  |\n| -1.1006651178972672e+179 |\n| -1.1150284395446854e+179 |\n| -8.926804406211663e+178  |\n| -1.2222808742145512e+179 |\n| -1.7553301993006415e+179 |\n| -1.2699633222624932e+179 |\n| -1.8597288687484545e+179 |\n| -1.6476808833747288e+179 |\n+--------------------------+\n[14064 rows x 1 columns]\nNote: Only the head of the SFrame is printed.\nYou can use print_rows(num_rows=m, num_columns=n) to print more rows and columns.\nERROR: -2.045689297403421e+183\n\n\nEror Values: +-------------------------+\n|            X1           |\n+-------------------------+\n|  1.11200329044771e+196  |\n| 1.1457393906239285e+196 |\n|  9.617017809988886e+195 |\n|  9.742516763165227e+195 |\n|  7.799759941955183e+195 |\n| 1.0679630656949077e+196 |\n|  1.53371279916052e+196  |\n| 1.1096254155454213e+196 |\n| 1.6249307224955328e+196 |\n| 1.4396546363588844e+196 |\n+-------------------------+\n[14064 rows x 1 columns]\nNote: Only the head of the SFrame is printed.\nYou can use print_rows(num_rows=m, num_columns=n) to print more rows and columns.\nERROR: 1.7874129094248806e+200\n\n\nEror Values: +--------------------------+\n|            X1            |\n+--------------------------+\n| -9.716084642922269e+212  |\n| -1.0010852480077026e+213 |\n| -8.402831165789326e+212  |\n|  -8.51248537833833e+212  |\n| -6.815009311708022e+212  |\n| -9.331284925990434e+212  |\n| -1.3400754748286043e+213 |\n| -9.695308055281405e+212  |\n| -1.4197767735286964e+213 |\n| -1.257892528160298e+213  |\n+--------------------------+\n[14064 rows x 1 columns]\nNote: Only the head of the SFrame is printed.\nYou can use print_rows(num_rows=m, num_columns=n) to print more rows and columns.\nERROR: -1.5617449398762128e+217\n\n\nEror Values: +-------------------------+\n|            X1           |\n+-------------------------+\n|  8.489390418118466e+229 |\n|  8.746942646642327e+229 |\n|  7.341940401464432e+229 |\n|  7.437750334738115e+229 |\n|  5.954587354521163e+229 |\n|  8.153173191748842e+229 |\n| 1.1708856307517575e+230 |\n|  8.471236957077136e+229 |\n| 1.2405243243575243e+230 |\n| 1.0990786070771653e+230 |\n+-------------------------+\n[14064 rows x 1 columns]\nNote: Only the head of the SFrame is printed.\nYou can use print_rows(num_rows=m, num_columns=n) to print more rows and columns.\nERROR: 1.3645684465900765e+234\n\n\nEror Values: +--------------------------+\n|            X1            |\n+--------------------------+\n| -7.417571204851645e+246  |\n| -7.642606442949151e+246  |\n| -6.414991304135301e+246  |\n|  -6.4987048533052e+246   |\n| -5.202797082273801e+246  |\n| -7.123802736909381e+246  |\n| -1.0230566755773862e+247 |\n| -7.401709690272087e+246  |\n| -1.0839032078950866e+247 |\n| -9.603155734626828e+246  |\n+--------------------------+\n[14064 rows x 1 columns]\nNote: Only the head of the SFrame is printed.\nYou can use print_rows(num_rows=m, num_columns=n) to print more rows and columns.\nERROR: -1.1922862676775093e+251\n\n\nEror Values: +------------------------+\n|           X1           |\n+------------------------+\n| 6.481073418606986e+263 |\n| 6.677697065297386e+263 |\n| 5.605073207067083e+263 |\n| 5.678217588606341e+263 |\n| 4.545923313857169e+263 |\n| 6.224394384968563e+263 |\n| 8.93891712354063e+263  |\n| 6.467214483157442e+263 |\n| 9.470561286202289e+263 |\n| 8.39071923242535e+263  |\n+------------------------+\n[14064 rows x 1 columns]\nNote: Only the head of the SFrame is printed.\nYou can use print_rows(num_rows=m, num_columns=n) to print more rows and columns.\nERROR: 1.0417553972061098e+268\n\n\nEror Values: +-------------------------+\n|            X1           |\n+-------------------------+\n| -5.662812192473455e+280 |\n| -5.834611323865846e+280 |\n| -4.897410482275933e+280 |\n| -4.961320095520289e+280 |\n| -3.971982464178402e+280 |\n| -5.438539904943595e+280 |\n| -7.810343380676522e+280 |\n| -5.650703002595578e+280 |\n| -8.274865359047331e+280 |\n| -7.331357647729359e+280 |\n+-------------------------+\n[14064 rows x 1 columns]\nNote: Only the head of the SFrame is printed.\nYou can use print_rows(num_rows=m, num_columns=n) to print more rows and columns.\nERROR: -9.102296462090936e+284\n\n\nEror Values: +-------------------------+\n|            X1           |\n+-------------------------+\n| 4.9478596917543504e+297 |\n|  5.097968501370996e+297 |\n|  4.279092983418223e+297 |\n|  4.33493375449441e+297  |\n|  3.470503923295273e+297 |\n| 4.7519026700962036e+297 |\n|  6.824256549311814e+297 |\n| 4.9372793351293884e+297 |\n|  7.230130785397155e+297 |\n|  6.405744665035547e+297 |\n+-------------------------+\n[14064 rows x 1 columns]\nNote: Only the head of the SFrame is printed.\nYou can use print_rows(num_rows=m, num_columns=n) to print more rows and columns.\nERROR: 7.953095429694325e+301\n\n\nEror Values: +------+\n|  X1  |\n+------+\n| -inf |\n| -inf |\n| -inf |\n| -inf |\n| -inf |\n| -inf |\n| -inf |\n| -inf |\n| -inf |\n| -inf |\n+------+\n[14064 rows x 1 columns]\nNote: Only the head of the SFrame is printed.\nYou can use print_rows(num_rows=m, num_columns=n) to print more rows and columns.\nERROR: -inf\n\n\nEror Values: +-----+\n|  X1 |\n+-----+\n| nan |\n| nan |\n| nan |\n| nan |\n| nan |\n| nan |\n| nan |\n| nan |\n| nan |\n| nan |\n+-----+\n[14064 rows x 1 columns]\nNote: Only the head of the SFrame is printed.\nYou can use print_rows(num_rows=m, num_columns=n) to print more rows and columns.\nERROR: nan\n\n"
    },
    {
     "data": {
      "text/plain": "<Figure size 640x480 with 1 Axes>"
     },
     "metadata": {},
     "output_type": "display_data"
    }
   ],
   "source": [
    "import turicreate\n",
    "import matplotlib.pyplot as plot\n",
    "from math import sqrt\n",
    "\n",
    "db = turicreate.SFrame('../data/usedCar.csv')\n",
    "\n",
    "\n",
    "training_data, test_data, = db.random_split(.8, seed=0)\n",
    "sf = turicreate.SFrame(\n",
    "    {\n",
    "        'X':training_data['mileage'],\n",
    "        'Y':training_data['total.cost']\n",
    "    })\n",
    "\n",
    "intercept = 0\n",
    "slope = 0\n",
    "stepSize = 500\n",
    "mag = 100000\n",
    "max_iterations = 1000\n",
    "num_of_iterations = 0\n",
    "slopeList = []\n",
    "interceptList = []\n",
    "\n",
    "# Values given from previous slope and intercept in original turicreate linea regression.\n",
    "tol = sqrt(5429.513647001827**2 + (-0.006918952033063598**2))\n",
    "\n",
    "while (mag > tol):\n",
    "    num_of_iterations += 1\n",
    "\n",
    "    error = turicreate.SFrame((sf[\"Y\"] - (intercept + slope * sf[\"X\"])))\n",
    "    print(\"\\nEror Values:\", error, end=\"\\n\")\n",
    "    sumError = error[\"X1\"].sum()\n",
    "    print(\"ERROR:\", sumError, end='\\n\\n')\n",
    "\n",
    "    intercept += 2 * stepSize * sumError\n",
    "    sumErrorSlope = (error[\"X1\"] * sf[\"X\"]).sum()\n",
    "    slope += 2 * stepSize * sumErrorSlope\n",
    "    \n",
    "    mag = sqrt((sumError * sumError) + (sumErrorSlope * sumErrorSlope))\n",
    "\n",
    "    slopeList.append(- slope)\n",
    "    interceptList.append(- intercept)\n",
    "    num_of_iterations += 1\n",
    "\n",
    "plot.plot(sf[\"X\"], sf[\"Y\"], \".\", interceptList, slopeList, \"-\")\n",
    "plot.show()\n",
    "\n",
    "\n",
    "\n"
   ]
  },
  {
   "cell_type": "code",
   "execution_count": null,
   "metadata": {},
   "outputs": [],
   "source": []
  }
 ],
 "metadata": {
  "kernelspec": {
   "display_name": "Python 3",
   "language": "python",
   "name": "python3"
  },
  "language_info": {
   "codemirror_mode": {
    "name": "ipython",
    "version": 3
   },
   "file_extension": ".py",
   "mimetype": "text/x-python",
   "name": "python",
   "nbconvert_exporter": "python",
   "pygments_lexer": "ipython3",
   "version": "3.7.4-final"
  }
 },
 "nbformat": 4,
 "nbformat_minor": 4
}